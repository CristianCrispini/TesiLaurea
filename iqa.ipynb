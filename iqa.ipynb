{
 "cells": [
  {
   "cell_type": "code",
   "execution_count": 1,
   "metadata": {},
   "outputs": [],
   "source": [
    "from cv2 import imread\n",
    "from pyFusion.fusion import *\n",
    "from pyFusion.iqa import metrics\n",
    "from pyFusion.iqa import xideasPetrovic as xp\n",
    "\n",
    "import matplotlib.pyplot as plt"
   ]
  },
  {
   "cell_type": "code",
   "execution_count": 46,
   "metadata": {},
   "outputs": [],
   "source": [
    "# Read images\n",
    "\n",
    "#images_path = ['images/MRI-CT/ct.png', 'images/MRI-TC/mr.png']\n",
    "images_path = ['images/MRI-PET/dg.png', 'images/MRI-PET/mr.png']\n",
    "#images_path = ['images/MRI-SPECT/dg.png', 'images/MRI-SPECT/tc.png']\n",
    "#images_path = ['images/T1-T2/t1.png', 'images/T1-T2/t2.png']\n",
    "\n",
    "output = 'results/MRI-CT/'\n",
    "images = []\n",
    "for image in images_path:\n",
    "    images.append(imread(image))\n",
    "im0 = images[0]\n",
    "im1 = images[1]"
   ]
  },
  {
   "cell_type": "code",
   "execution_count": 76,
   "metadata": {},
   "outputs": [],
   "source": [
    "#fused_image = imread('/mnt/0CDA4207DA41EE10/Cristian/Immagini/Tesi/ImageFusionWavelets/MRI-CT.jpg', 0)\n",
    "#fused_image = imread('/mnt/0CDA4207DA41EE10/Cristian/Immagini/Tesi/ImageFusionVisualSaliency/MRI-CT/fused.jpg', 0)\n",
    "#fused_image = imread('/mnt/0CDA4207DA41EE10/Cristian/Immagini/Tesi/GFF/MRI-CT/GFF_MRI-CT.jpg')\n",
    "#fused_image = imread('/mnt/0CDA4207DA41EE10/Cristian/Immagini/Tesi/GFF/MRI-PET/gff_mri_pet.jpg')\n",
    "#fused_image = imread('/mnt/0CDA4207DA41EE10/Cristian/Immagini/Tesi/NSST-PAPCNN/T1-T2/t1_t2.png')\n",
    "fused_image = imread('/mnt/0CDA4207DA41EE10/Cristian/Immagini/Tesi/NSST-PAPCNN/MRI-PET/mri_pet.tif')\n",
    "#fused_image = imread('/mnt/0CDA4207DA41EE10/Cristian/Immagini/Tesi/NSCT-PCNN/T1-T2/t1_t2.tif')\n",
    "#fused_image = imread('/mnt/0CDA4207DA41EE10/Cristian/Immagini/Tesi/NSCT-PCNN/MRI-PET/mri_pet.tif')\n",
    "#fused_image = imread('/mnt/0CDA4207DA41EE10/Cristian/Immagini/Tesi/LICNN/MRI-CT/LICNN_MRI-CT.jpg')\n",
    "#fused_image = imread('/mnt/0CDA4207DA41EE10/Cristian/Immagini/Tesi/LICNN/T1-T2/LICNN_t1_t2.jpg')\n",
    "#fused_image = imread('results/MRI-CT/fusion_ct_mr.png',0)\n",
    "#fused_image = imread('results/T1-T2/fusion_t1_t2.png')\n",
    "#fused_image = imread('results/MRI-PET/fusion_dg_mr.png')\n",
    "\n",
    "#--------------------------------LEGACY\n",
    "#f = Image_fusion_tool('output')\n",
    "#fused_image = f.pyramid_image_fusion(im0, im1, 'weighted')\n",
    "#fused_image = f.weighted_average_fusion(im0,im1,0.7,0.3)\n",
    "#fused_image = f.HSI_image_fusion(images[0],images[1]) # solo per immagini a colori\n",
    "#fused_image = f.PCA_image_fusion(im0, im1)\n",
    "#fused_image = f.PCA_fusion(im0, im1)\n",
    "\n",
    "# fused_img = np.clip(fused_image, 0, 1)\n",
    "# fused_image =(fused_image * 255).astype(np.uint8)\n",
    "#----------------------------------\n",
    "\n",
    "#plt.imshow(fused_image, cmap='gray')\n",
    "#plt.imshow(fused_image)\n",
    "# imwrite(output+'<nome>.jpg', fused_image)"
   ]
  },
  {
   "cell_type": "code",
   "execution_count": 77,
   "metadata": {},
   "outputs": [
    {
     "data": {
      "text/plain": [
       "array([0.77793527, 0.8042576 , 0.77970976], dtype=float32)"
      ]
     },
     "execution_count": 77,
     "metadata": {},
     "output_type": "execute_result"
    }
   ],
   "source": [
    "xp.InformationPreservation(im0, im1, fused_image).calculate()"
   ]
  },
  {
   "cell_type": "code",
   "execution_count": 78,
   "metadata": {},
   "outputs": [
    {
     "data": {
      "text/plain": [
       "array([0.579096 , 0.6339128, 0.6025406], dtype=float32)"
      ]
     },
     "execution_count": 78,
     "metadata": {},
     "output_type": "execute_result"
    }
   ],
   "source": [
    "xp.TotalFusionGain(im0, im1, fused_image).calculate()"
   ]
  },
  {
   "cell_type": "code",
   "execution_count": 79,
   "metadata": {},
   "outputs": [
    {
     "data": {
      "text/plain": [
       "(array([0.16632825, 0.14952114, 0.1763834 ], dtype=float32),\n",
       " array([0.00191888, 0.00208832, 0.00201354], dtype=float32))"
      ]
     },
     "execution_count": 79,
     "metadata": {},
     "output_type": "execute_result"
    }
   ],
   "source": [
    "xp.FusionLossArtifact(im0, im1, fused_image).calculate()"
   ]
  },
  {
   "cell_type": "code",
   "execution_count": 80,
   "metadata": {},
   "outputs": [
    {
     "data": {
      "text/plain": [
       "1725.2595799763997"
      ]
     },
     "execution_count": 80,
     "metadata": {},
     "output_type": "execute_result"
    }
   ],
   "source": [
    "mse0 = metrics.mean_squared_error(im0, fused_image) \n",
    "mse1 = metrics.mean_squared_error(im1, fused_image) \n",
    "mean_mse = (mse0 + mse1) / 2\n",
    "mean_mse  "
   ]
  },
  {
   "cell_type": "code",
   "execution_count": 81,
   "metadata": {},
   "outputs": [
    {
     "data": {
      "text/plain": [
       "3.3798265431430465"
      ]
     },
     "execution_count": 81,
     "metadata": {},
     "output_type": "execute_result"
    }
   ],
   "source": [
    "en0 = metrics.entropy_2d(im0, fused_image)\n",
    "en1 = metrics.entropy_2d(im1, fused_image)\n",
    "mean_entropy = (en0 + en1) / 2\n",
    "mean_entropy"
   ]
  },
  {
   "cell_type": "code",
   "execution_count": 82,
   "metadata": {},
   "outputs": [
    {
     "data": {
      "text/plain": [
       "0.6623833677321231"
      ]
     },
     "execution_count": 82,
     "metadata": {},
     "output_type": "execute_result"
    }
   ],
   "source": [
    "mi0 = metrics.mutual_information_2d(im0, fused_image)\n",
    "mi1 = metrics.mutual_information_2d(im1, fused_image)\n",
    "mean_mi = (mi0 + mi1) / 2\n",
    "mi0"
   ]
  },
  {
   "cell_type": "code",
   "execution_count": 83,
   "metadata": {},
   "outputs": [
    {
     "data": {
      "text/plain": [
       "0.8290461454160793"
      ]
     },
     "execution_count": 83,
     "metadata": {},
     "output_type": "execute_result"
    }
   ],
   "source": [
    "ssim0 = metrics.ssim(im0, fused_image, True)\n",
    "ssim1 = metrics.ssim(im1, fused_image, True)\n",
    "mean_ssim = (ssim0 + ssim1) / 2\n",
    "mean_ssim"
   ]
  },
  {
   "cell_type": "code",
   "execution_count": 84,
   "metadata": {},
   "outputs": [],
   "source": [
    "#d0 = metrics.discrepancy(im0, fused_image)\n",
    "#d1 = metrics.discrepancy(im1, fused_image)\n",
    "#mean_discrepancy = (d0 + d1) / 2\n",
    "#mean_discrepancy#"
   ]
  },
  {
   "cell_type": "markdown",
   "metadata": {},
   "source": []
  }
 ],
 "metadata": {
  "interpreter": {
   "hash": "7fed33fa422555f73bf7313ce0a58d3536aae48be733c3a7b7c33affb994aa26"
  },
  "kernelspec": {
   "display_name": "Python 3.8.10 64-bit ('VirtualEnv': venv)",
   "name": "python3"
  },
  "language_info": {
   "codemirror_mode": {
    "name": "ipython",
    "version": 3
   },
   "file_extension": ".py",
   "mimetype": "text/x-python",
   "name": "python",
   "nbconvert_exporter": "python",
   "pygments_lexer": "ipython3",
   "version": "3.8.10"
  },
  "orig_nbformat": 4
 },
 "nbformat": 4,
 "nbformat_minor": 2
}
